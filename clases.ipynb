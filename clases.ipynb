{
 "cells": [
  {
   "cell_type": "code",
   "execution_count": 1,
   "metadata": {},
   "outputs": [],
   "source": [
    "from main import *\n",
    "import sys\n",
    "sys.path.insert(1, str(Path().cwd().parent.joinpath('config')))\n",
    "from config import DATA_DIR, FILE_PELICULAS, FILE_PERSONAS, FILE_SCORES, FILE_TRABAJADORES, FILE_USUARIOS\n",
    "import pandas as pd"
   ]
  },
  {
   "cell_type": "code",
   "execution_count": 2,
   "metadata": {},
   "outputs": [
    {
     "name": "stdout",
     "output_type": "stream",
     "text": [
      "La base de datos Usuarios fue cargada exitosamente.\n",
      "La base de datos Personas fue cargada exitosamente.\n"
     ]
    }
   ],
   "source": [
    "# inicialización de la clase\n",
    "usr = Usuarios(dir_database=DATA_DIR.joinpath(FILE_USUARIOS))\n",
    "pers = Personas(dir_database=DATA_DIR.joinpath(FILE_PERSONAS))"
   ]
  },
  {
   "cell_type": "code",
   "execution_count": 3,
   "metadata": {},
   "outputs": [
    {
     "data": {
      "text/plain": [
       "{'id': 4911,\n",
       " 'occupation': 'Teacher, secondary school',\n",
       " 'active_since': '1985-06-15 03:31:41'}"
      ]
     },
     "execution_count": 3,
     "metadata": {},
     "output_type": "execute_result"
    }
   ],
   "source": [
    "generate_user()"
   ]
  },
  {
   "cell_type": "code",
   "execution_count": 4,
   "metadata": {},
   "outputs": [
    {
     "data": {
      "text/plain": [
       "{'id': 2243,\n",
       " 'full_name': 'Larry Hughes',\n",
       " 'year_of_birth': 1987,\n",
       " 'gender': 'F',\n",
       " 'zip_code': '52256'}"
      ]
     },
     "execution_count": 4,
     "metadata": {},
     "output_type": "execute_result"
    }
   ],
   "source": [
    "# funcion que genera una persona\n",
    "generate_person()"
   ]
  },
  {
   "cell_type": "code",
   "execution_count": 5,
   "metadata": {},
   "outputs": [
    {
     "data": {
      "text/plain": [
       "Persona: Casey Jenkins, M, 2000, 58807"
      ]
     },
     "execution_count": 5,
     "metadata": {},
     "output_type": "execute_result"
    }
   ],
   "source": [
    "# crea una persona pero no la guarda en la base de datos\n",
    "persona_1 = Personas(**generate_person())\n",
    "\n",
    "# muestra la persona\n",
    "persona_1"
   ]
  },
  {
   "cell_type": "code",
   "execution_count": 6,
   "metadata": {},
   "outputs": [
    {
     "data": {
      "text/html": [
       "<div>\n",
       "<style scoped>\n",
       "    .dataframe tbody tr th:only-of-type {\n",
       "        vertical-align: middle;\n",
       "    }\n",
       "\n",
       "    .dataframe tbody tr th {\n",
       "        vertical-align: top;\n",
       "    }\n",
       "\n",
       "    .dataframe thead th {\n",
       "        text-align: right;\n",
       "    }\n",
       "</style>\n",
       "<table border=\"1\" class=\"dataframe\">\n",
       "  <thead>\n",
       "    <tr style=\"text-align: right;\">\n",
       "      <th></th>\n",
       "      <th>id</th>\n",
       "      <th>Full Name</th>\n",
       "      <th>year of birth</th>\n",
       "      <th>Gender</th>\n",
       "      <th>Zip Code</th>\n",
       "    </tr>\n",
       "  </thead>\n",
       "  <tbody>\n",
       "    <tr>\n",
       "      <th>938</th>\n",
       "      <td>939</td>\n",
       "      <td>Kim Privitera</td>\n",
       "      <td>1972</td>\n",
       "      <td>F</td>\n",
       "      <td>33319</td>\n",
       "    </tr>\n",
       "    <tr>\n",
       "      <th>939</th>\n",
       "      <td>940</td>\n",
       "      <td>Louis Quarry</td>\n",
       "      <td>1966</td>\n",
       "      <td>M</td>\n",
       "      <td>02215</td>\n",
       "    </tr>\n",
       "    <tr>\n",
       "      <th>940</th>\n",
       "      <td>941</td>\n",
       "      <td>Quinton Reamer</td>\n",
       "      <td>1978</td>\n",
       "      <td>M</td>\n",
       "      <td>97229</td>\n",
       "    </tr>\n",
       "    <tr>\n",
       "      <th>941</th>\n",
       "      <td>942</td>\n",
       "      <td>Ruby Bridges</td>\n",
       "      <td>1950</td>\n",
       "      <td>F</td>\n",
       "      <td>78209</td>\n",
       "    </tr>\n",
       "    <tr>\n",
       "      <th>942</th>\n",
       "      <td>943</td>\n",
       "      <td>Dannie Cintron</td>\n",
       "      <td>1976</td>\n",
       "      <td>M</td>\n",
       "      <td>77841</td>\n",
       "    </tr>\n",
       "  </tbody>\n",
       "</table>\n",
       "</div>"
      ],
      "text/plain": [
       "      id       Full Name  year of birth Gender Zip Code\n",
       "938  939   Kim Privitera           1972      F    33319\n",
       "939  940    Louis Quarry           1966      M    02215\n",
       "940  941  Quinton Reamer           1978      M    97229\n",
       "941  942    Ruby Bridges           1950      F    78209\n",
       "942  943  Dannie Cintron           1976      M    77841"
      ]
     },
     "execution_count": 6,
     "metadata": {},
     "output_type": "execute_result"
    }
   ],
   "source": [
    "# muestra los ultimos 5 elementos de la base de datos\n",
    "persona_1.database.tail()"
   ]
  },
  {
   "cell_type": "code",
   "execution_count": 7,
   "metadata": {},
   "outputs": [
    {
     "name": "stdout",
     "output_type": "stream",
     "text": [
      "Elemento creado exitosamente.\n"
     ]
    }
   ],
   "source": [
    "# agrego un elemento a la base de datos\n",
    "persona_1.new(element=generate_person())"
   ]
  },
  {
   "cell_type": "code",
   "execution_count": 8,
   "metadata": {},
   "outputs": [
    {
     "data": {
      "text/html": [
       "<div>\n",
       "<style scoped>\n",
       "    .dataframe tbody tr th:only-of-type {\n",
       "        vertical-align: middle;\n",
       "    }\n",
       "\n",
       "    .dataframe tbody tr th {\n",
       "        vertical-align: top;\n",
       "    }\n",
       "\n",
       "    .dataframe thead th {\n",
       "        text-align: right;\n",
       "    }\n",
       "</style>\n",
       "<table border=\"1\" class=\"dataframe\">\n",
       "  <thead>\n",
       "    <tr style=\"text-align: right;\">\n",
       "      <th></th>\n",
       "      <th>id</th>\n",
       "      <th>Full Name</th>\n",
       "      <th>year of birth</th>\n",
       "      <th>Gender</th>\n",
       "      <th>Zip Code</th>\n",
       "    </tr>\n",
       "  </thead>\n",
       "  <tbody>\n",
       "    <tr>\n",
       "      <th>939</th>\n",
       "      <td>940</td>\n",
       "      <td>Louis Quarry</td>\n",
       "      <td>1966</td>\n",
       "      <td>M</td>\n",
       "      <td>02215</td>\n",
       "    </tr>\n",
       "    <tr>\n",
       "      <th>940</th>\n",
       "      <td>941</td>\n",
       "      <td>Quinton Reamer</td>\n",
       "      <td>1978</td>\n",
       "      <td>M</td>\n",
       "      <td>97229</td>\n",
       "    </tr>\n",
       "    <tr>\n",
       "      <th>941</th>\n",
       "      <td>942</td>\n",
       "      <td>Ruby Bridges</td>\n",
       "      <td>1950</td>\n",
       "      <td>F</td>\n",
       "      <td>78209</td>\n",
       "    </tr>\n",
       "    <tr>\n",
       "      <th>942</th>\n",
       "      <td>943</td>\n",
       "      <td>Dannie Cintron</td>\n",
       "      <td>1976</td>\n",
       "      <td>M</td>\n",
       "      <td>77841</td>\n",
       "    </tr>\n",
       "    <tr>\n",
       "      <th>943</th>\n",
       "      <td>7729</td>\n",
       "      <td>Jason Smith</td>\n",
       "      <td>2022</td>\n",
       "      <td>M</td>\n",
       "      <td>90555</td>\n",
       "    </tr>\n",
       "  </tbody>\n",
       "</table>\n",
       "</div>"
      ],
      "text/plain": [
       "       id       Full Name  year of birth Gender Zip Code\n",
       "939   940    Louis Quarry           1966      M    02215\n",
       "940   941  Quinton Reamer           1978      M    97229\n",
       "941   942    Ruby Bridges           1950      F    78209\n",
       "942   943  Dannie Cintron           1976      M    77841\n",
       "943  7729     Jason Smith           2022      M    90555"
      ]
     },
     "execution_count": 8,
     "metadata": {},
     "output_type": "execute_result"
    }
   ],
   "source": [
    "# muestra los ultimos 5 elementos de la base de datos\n",
    "persona_1.database.tail()"
   ]
  },
  {
   "cell_type": "code",
   "execution_count": 9,
   "metadata": {},
   "outputs": [
    {
     "name": "stdout",
     "output_type": "stream",
     "text": [
      "Elemento eliminado exitosamente.\n"
     ]
    }
   ],
   "source": [
    "# elimino el elemento ingresado en la base de dados\n",
    "persona_1.delete(index=persona_1.database.index[-1])"
   ]
  },
  {
   "cell_type": "code",
   "execution_count": 10,
   "metadata": {},
   "outputs": [
    {
     "data": {
      "text/html": [
       "<div>\n",
       "<style scoped>\n",
       "    .dataframe tbody tr th:only-of-type {\n",
       "        vertical-align: middle;\n",
       "    }\n",
       "\n",
       "    .dataframe tbody tr th {\n",
       "        vertical-align: top;\n",
       "    }\n",
       "\n",
       "    .dataframe thead th {\n",
       "        text-align: right;\n",
       "    }\n",
       "</style>\n",
       "<table border=\"1\" class=\"dataframe\">\n",
       "  <thead>\n",
       "    <tr style=\"text-align: right;\">\n",
       "      <th></th>\n",
       "      <th>id</th>\n",
       "      <th>Full Name</th>\n",
       "      <th>year of birth</th>\n",
       "      <th>Gender</th>\n",
       "      <th>Zip Code</th>\n",
       "    </tr>\n",
       "  </thead>\n",
       "  <tbody>\n",
       "    <tr>\n",
       "      <th>938</th>\n",
       "      <td>939</td>\n",
       "      <td>Kim Privitera</td>\n",
       "      <td>1972</td>\n",
       "      <td>F</td>\n",
       "      <td>33319</td>\n",
       "    </tr>\n",
       "    <tr>\n",
       "      <th>939</th>\n",
       "      <td>940</td>\n",
       "      <td>Louis Quarry</td>\n",
       "      <td>1966</td>\n",
       "      <td>M</td>\n",
       "      <td>02215</td>\n",
       "    </tr>\n",
       "    <tr>\n",
       "      <th>940</th>\n",
       "      <td>941</td>\n",
       "      <td>Quinton Reamer</td>\n",
       "      <td>1978</td>\n",
       "      <td>M</td>\n",
       "      <td>97229</td>\n",
       "    </tr>\n",
       "    <tr>\n",
       "      <th>941</th>\n",
       "      <td>942</td>\n",
       "      <td>Ruby Bridges</td>\n",
       "      <td>1950</td>\n",
       "      <td>F</td>\n",
       "      <td>78209</td>\n",
       "    </tr>\n",
       "    <tr>\n",
       "      <th>942</th>\n",
       "      <td>943</td>\n",
       "      <td>Dannie Cintron</td>\n",
       "      <td>1976</td>\n",
       "      <td>M</td>\n",
       "      <td>77841</td>\n",
       "    </tr>\n",
       "  </tbody>\n",
       "</table>\n",
       "</div>"
      ],
      "text/plain": [
       "      id       Full Name  year of birth Gender Zip Code\n",
       "938  939   Kim Privitera           1972      F    33319\n",
       "939  940    Louis Quarry           1966      M    02215\n",
       "940  941  Quinton Reamer           1978      M    97229\n",
       "941  942    Ruby Bridges           1950      F    78209\n",
       "942  943  Dannie Cintron           1976      M    77841"
      ]
     },
     "execution_count": 10,
     "metadata": {},
     "output_type": "execute_result"
    }
   ],
   "source": [
    "# muestra los ultimos 5 elementos de la base de datos\n",
    "persona_1.database.tail()"
   ]
  },
  {
   "cell_type": "code",
   "execution_count": 11,
   "metadata": {},
   "outputs": [
    {
     "name": "stdout",
     "output_type": "stream",
     "text": [
      "Elemento creado exitosamente.\n"
     ]
    },
    {
     "data": {
      "text/html": [
       "<div>\n",
       "<style scoped>\n",
       "    .dataframe tbody tr th:only-of-type {\n",
       "        vertical-align: middle;\n",
       "    }\n",
       "\n",
       "    .dataframe tbody tr th {\n",
       "        vertical-align: top;\n",
       "    }\n",
       "\n",
       "    .dataframe thead th {\n",
       "        text-align: right;\n",
       "    }\n",
       "</style>\n",
       "<table border=\"1\" class=\"dataframe\">\n",
       "  <thead>\n",
       "    <tr style=\"text-align: right;\">\n",
       "      <th></th>\n",
       "      <th>id</th>\n",
       "      <th>Full Name</th>\n",
       "      <th>year of birth</th>\n",
       "      <th>Gender</th>\n",
       "      <th>Zip Code</th>\n",
       "    </tr>\n",
       "  </thead>\n",
       "  <tbody>\n",
       "    <tr>\n",
       "      <th>939</th>\n",
       "      <td>940</td>\n",
       "      <td>Louis Quarry</td>\n",
       "      <td>1966</td>\n",
       "      <td>M</td>\n",
       "      <td>02215</td>\n",
       "    </tr>\n",
       "    <tr>\n",
       "      <th>940</th>\n",
       "      <td>941</td>\n",
       "      <td>Quinton Reamer</td>\n",
       "      <td>1978</td>\n",
       "      <td>M</td>\n",
       "      <td>97229</td>\n",
       "    </tr>\n",
       "    <tr>\n",
       "      <th>941</th>\n",
       "      <td>942</td>\n",
       "      <td>Ruby Bridges</td>\n",
       "      <td>1950</td>\n",
       "      <td>F</td>\n",
       "      <td>78209</td>\n",
       "    </tr>\n",
       "    <tr>\n",
       "      <th>942</th>\n",
       "      <td>943</td>\n",
       "      <td>Dannie Cintron</td>\n",
       "      <td>1976</td>\n",
       "      <td>M</td>\n",
       "      <td>77841</td>\n",
       "    </tr>\n",
       "    <tr>\n",
       "      <th>943</th>\n",
       "      <td>1808</td>\n",
       "      <td>Emily Nunez</td>\n",
       "      <td>2022</td>\n",
       "      <td>F</td>\n",
       "      <td>34975</td>\n",
       "    </tr>\n",
       "  </tbody>\n",
       "</table>\n",
       "</div>"
      ],
      "text/plain": [
       "       id       Full Name  year of birth Gender Zip Code\n",
       "939   940    Louis Quarry           1966      M    02215\n",
       "940   941  Quinton Reamer           1978      M    97229\n",
       "941   942    Ruby Bridges           1950      F    78209\n",
       "942   943  Dannie Cintron           1976      M    77841\n",
       "943  1808     Emily Nunez           2022      F    34975"
      ]
     },
     "execution_count": 11,
     "metadata": {},
     "output_type": "execute_result"
    }
   ],
   "source": [
    "# agrego un elemento a la base de datos\n",
    "persona_1.new(element=generate_person())\n",
    "persona_1.database.tail()"
   ]
  },
  {
   "cell_type": "code",
   "execution_count": 12,
   "metadata": {},
   "outputs": [
    {
     "data": {
      "text/plain": [
       "{'id': 2318,\n",
       " 'full_name': 'Veronica Davis',\n",
       " 'year_of_birth': 2009,\n",
       " 'gender': 'M',\n",
       " 'zip_code': '92985'}"
      ]
     },
     "execution_count": 12,
     "metadata": {},
     "output_type": "execute_result"
    }
   ],
   "source": [
    "ele = generate_person()\n",
    "ele"
   ]
  },
  {
   "cell_type": "code",
   "execution_count": 13,
   "metadata": {},
   "outputs": [
    {
     "name": "stdout",
     "output_type": "stream",
     "text": [
      "Elemento actualizado exitosamente.\n"
     ]
    },
    {
     "data": {
      "text/html": [
       "<div>\n",
       "<style scoped>\n",
       "    .dataframe tbody tr th:only-of-type {\n",
       "        vertical-align: middle;\n",
       "    }\n",
       "\n",
       "    .dataframe tbody tr th {\n",
       "        vertical-align: top;\n",
       "    }\n",
       "\n",
       "    .dataframe thead th {\n",
       "        text-align: right;\n",
       "    }\n",
       "</style>\n",
       "<table border=\"1\" class=\"dataframe\">\n",
       "  <thead>\n",
       "    <tr style=\"text-align: right;\">\n",
       "      <th></th>\n",
       "      <th>id</th>\n",
       "      <th>Full Name</th>\n",
       "      <th>year of birth</th>\n",
       "      <th>Gender</th>\n",
       "      <th>Zip Code</th>\n",
       "    </tr>\n",
       "  </thead>\n",
       "  <tbody>\n",
       "    <tr>\n",
       "      <th>939</th>\n",
       "      <td>940</td>\n",
       "      <td>Louis Quarry</td>\n",
       "      <td>1966</td>\n",
       "      <td>M</td>\n",
       "      <td>02215</td>\n",
       "    </tr>\n",
       "    <tr>\n",
       "      <th>940</th>\n",
       "      <td>941</td>\n",
       "      <td>Quinton Reamer</td>\n",
       "      <td>1978</td>\n",
       "      <td>M</td>\n",
       "      <td>97229</td>\n",
       "    </tr>\n",
       "    <tr>\n",
       "      <th>941</th>\n",
       "      <td>942</td>\n",
       "      <td>Ruby Bridges</td>\n",
       "      <td>1950</td>\n",
       "      <td>F</td>\n",
       "      <td>78209</td>\n",
       "    </tr>\n",
       "    <tr>\n",
       "      <th>942</th>\n",
       "      <td>2318</td>\n",
       "      <td>Veronica Davis</td>\n",
       "      <td>2009</td>\n",
       "      <td>M</td>\n",
       "      <td>92985</td>\n",
       "    </tr>\n",
       "    <tr>\n",
       "      <th>943</th>\n",
       "      <td>1808</td>\n",
       "      <td>Emily Nunez</td>\n",
       "      <td>2022</td>\n",
       "      <td>F</td>\n",
       "      <td>34975</td>\n",
       "    </tr>\n",
       "  </tbody>\n",
       "</table>\n",
       "</div>"
      ],
      "text/plain": [
       "       id       Full Name  year of birth Gender Zip Code\n",
       "939   940    Louis Quarry           1966      M    02215\n",
       "940   941  Quinton Reamer           1978      M    97229\n",
       "941   942    Ruby Bridges           1950      F    78209\n",
       "942  2318  Veronica Davis           2009      M    92985\n",
       "943  1808     Emily Nunez           2022      F    34975"
      ]
     },
     "execution_count": 13,
     "metadata": {},
     "output_type": "execute_result"
    }
   ],
   "source": [
    "# actualizo elemento en base de datos\n",
    "persona_1.update(index=942, element=ele)\n",
    "persona_1.database.tail()"
   ]
  },
  {
   "cell_type": "code",
   "execution_count": 14,
   "metadata": {},
   "outputs": [
    {
     "data": {
      "text/plain": [
       "{'id': 9578,\n",
       " 'full_name': 'Destiny Clark',\n",
       " 'year_of_birth': 1999,\n",
       " 'gender': 'F',\n",
       " 'zip_code': '38928'}"
      ]
     },
     "execution_count": 14,
     "metadata": {},
     "output_type": "execute_result"
    }
   ],
   "source": [
    "generate_person()"
   ]
  }
 ],
 "metadata": {
  "kernelspec": {
   "display_name": "env_3.8_autoML",
   "language": "python",
   "name": "python3"
  },
  "language_info": {
   "codemirror_mode": {
    "name": "ipython",
    "version": 3
   },
   "file_extension": ".py",
   "mimetype": "text/x-python",
   "name": "python",
   "nbconvert_exporter": "python",
   "pygments_lexer": "ipython3",
   "version": "3.8.10"
  },
  "orig_nbformat": 4
 },
 "nbformat": 4,
 "nbformat_minor": 2
}
